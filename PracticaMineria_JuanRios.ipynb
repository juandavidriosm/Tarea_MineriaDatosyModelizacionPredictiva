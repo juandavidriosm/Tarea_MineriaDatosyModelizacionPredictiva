{
 "cells": [
  {
   "cell_type": "markdown",
   "id": "38d745a6",
   "metadata": {},
   "source": [
    "# Práctica Minería de Datos\n",
    "\n",
    "**Este documento contiene la parte práctica de la tarea de evaluación del módulo de Minería de Datos.** \n",
    "\n",
    "**La idea es que vayas avanzando en el documento y completando códigos (asegurando ejecutar para que se vean las salidas) y preguntas asociadas.**\n",
    "\n",
    "**Una vez terminado, lo guardas con el nombre \"PracticaMineria_NombreApellido.ipynb\" para adjuntarlo a la entrega.** \n",
    "\n",
    "**A disfrutar del proceso!**"
   ]
  },
  {
   "cell_type": "code",
   "execution_count": 2,
   "id": "94942b36-c2e1-4fbd-ae2a-4bc4918b708d",
   "metadata": {},
   "outputs": [],
   "source": [
    "import pandas as pd\n",
    "import numpy as np\n",
    "import matplotlib.pyplot as plt\n",
    "import NuestrasFunciones\n",
    "\n",
    "import plotly.express as px\n",
    "from plotly.subplots import make_subplots\n",
    "#from ydata_profiling import ProfileReport\n",
    "import seaborn as sns\n",
    "\n",
    "from sklearn.metrics import r2_score\n",
    "import statsmodels.api as sm\n",
    "\n",
    "from statsmodels.tsa.seasonal import seasonal_decompose\n",
    "\n",
    "import warnings\n",
    "warnings.filterwarnings('ignore')"
   ]
  },
  {
   "cell_type": "markdown",
   "id": "f9b40231",
   "metadata": {},
   "source": [
    "## Pregunta 1\n",
    "\n",
    "Indica en el siguiente chunk el código necesario para importar el conjunto de datos **\"FEV_data.csv\"** y muestra la información del archivo. "
   ]
  },
  {
   "cell_type": "code",
   "execution_count": 3,
   "id": "9d49deca",
   "metadata": {},
   "outputs": [
    {
     "data": {
      "text/html": [
       "<div>\n",
       "<style scoped>\n",
       "    .dataframe tbody tr th:only-of-type {\n",
       "        vertical-align: middle;\n",
       "    }\n",
       "\n",
       "    .dataframe tbody tr th {\n",
       "        vertical-align: top;\n",
       "    }\n",
       "\n",
       "    .dataframe thead th {\n",
       "        text-align: right;\n",
       "    }\n",
       "</style>\n",
       "<table border=\"1\" class=\"dataframe\">\n",
       "  <thead>\n",
       "    <tr style=\"text-align: right;\">\n",
       "      <th></th>\n",
       "      <th>seqnbr</th>\n",
       "      <th>subjid</th>\n",
       "      <th>age</th>\n",
       "      <th>fev</th>\n",
       "      <th>height</th>\n",
       "      <th>sex</th>\n",
       "      <th>smoke</th>\n",
       "    </tr>\n",
       "  </thead>\n",
       "  <tbody>\n",
       "    <tr>\n",
       "      <th>count</th>\n",
       "      <td>654.00000</td>\n",
       "      <td>654.000000</td>\n",
       "      <td>654.000000</td>\n",
       "      <td>654.000000</td>\n",
       "      <td>654.000000</td>\n",
       "      <td>654.000000</td>\n",
       "      <td>654.000000</td>\n",
       "    </tr>\n",
       "    <tr>\n",
       "      <th>mean</th>\n",
       "      <td>327.50000</td>\n",
       "      <td>37169.571865</td>\n",
       "      <td>9.931193</td>\n",
       "      <td>2.636780</td>\n",
       "      <td>61.143578</td>\n",
       "      <td>1.486239</td>\n",
       "      <td>1.900612</td>\n",
       "    </tr>\n",
       "    <tr>\n",
       "      <th>std</th>\n",
       "      <td>188.93782</td>\n",
       "      <td>23690.860350</td>\n",
       "      <td>2.953935</td>\n",
       "      <td>0.867059</td>\n",
       "      <td>5.703513</td>\n",
       "      <td>0.500193</td>\n",
       "      <td>0.299412</td>\n",
       "    </tr>\n",
       "    <tr>\n",
       "      <th>min</th>\n",
       "      <td>1.00000</td>\n",
       "      <td>201.000000</td>\n",
       "      <td>3.000000</td>\n",
       "      <td>0.791000</td>\n",
       "      <td>46.000000</td>\n",
       "      <td>1.000000</td>\n",
       "      <td>1.000000</td>\n",
       "    </tr>\n",
       "    <tr>\n",
       "      <th>25%</th>\n",
       "      <td>164.25000</td>\n",
       "      <td>15811.000000</td>\n",
       "      <td>8.000000</td>\n",
       "      <td>1.981000</td>\n",
       "      <td>57.000000</td>\n",
       "      <td>1.000000</td>\n",
       "      <td>2.000000</td>\n",
       "    </tr>\n",
       "    <tr>\n",
       "      <th>50%</th>\n",
       "      <td>327.50000</td>\n",
       "      <td>36071.000000</td>\n",
       "      <td>10.000000</td>\n",
       "      <td>2.547500</td>\n",
       "      <td>61.500000</td>\n",
       "      <td>1.000000</td>\n",
       "      <td>2.000000</td>\n",
       "    </tr>\n",
       "    <tr>\n",
       "      <th>75%</th>\n",
       "      <td>490.75000</td>\n",
       "      <td>53638.500000</td>\n",
       "      <td>12.000000</td>\n",
       "      <td>3.118500</td>\n",
       "      <td>65.500000</td>\n",
       "      <td>2.000000</td>\n",
       "      <td>2.000000</td>\n",
       "    </tr>\n",
       "    <tr>\n",
       "      <th>max</th>\n",
       "      <td>654.00000</td>\n",
       "      <td>90001.000000</td>\n",
       "      <td>19.000000</td>\n",
       "      <td>5.793000</td>\n",
       "      <td>74.000000</td>\n",
       "      <td>2.000000</td>\n",
       "      <td>2.000000</td>\n",
       "    </tr>\n",
       "  </tbody>\n",
       "</table>\n",
       "</div>"
      ],
      "text/plain": [
       "          seqnbr        subjid         age         fev      height  \\\n",
       "count  654.00000    654.000000  654.000000  654.000000  654.000000   \n",
       "mean   327.50000  37169.571865    9.931193    2.636780   61.143578   \n",
       "std    188.93782  23690.860350    2.953935    0.867059    5.703513   \n",
       "min      1.00000    201.000000    3.000000    0.791000   46.000000   \n",
       "25%    164.25000  15811.000000    8.000000    1.981000   57.000000   \n",
       "50%    327.50000  36071.000000   10.000000    2.547500   61.500000   \n",
       "75%    490.75000  53638.500000   12.000000    3.118500   65.500000   \n",
       "max    654.00000  90001.000000   19.000000    5.793000   74.000000   \n",
       "\n",
       "              sex       smoke  \n",
       "count  654.000000  654.000000  \n",
       "mean     1.486239    1.900612  \n",
       "std      0.500193    0.299412  \n",
       "min      1.000000    1.000000  \n",
       "25%      1.000000    2.000000  \n",
       "50%      1.000000    2.000000  \n",
       "75%      2.000000    2.000000  \n",
       "max      2.000000    2.000000  "
      ]
     },
     "execution_count": 3,
     "metadata": {},
     "output_type": "execute_result"
    }
   ],
   "source": [
    "# Lectura del archivo\n",
    "df_fev = pd.read_csv(\"FEV_data.csv\")\n",
    "# Información\n",
    "df_fev.describe()"
   ]
  },
  {
   "cell_type": "markdown",
   "id": "b237f508",
   "metadata": {},
   "source": [
    "¿Cuantos registros y variables tiene el archivo? ¿Tienen las variables el tipo correcto en relación a su lógica naturaleza?"
   ]
  },
  {
   "cell_type": "markdown",
   "id": "8b0b37de",
   "metadata": {},
   "source": [
    "**Respuesta**:\n"
   ]
  },
  {
   "cell_type": "markdown",
   "id": "2a93d667",
   "metadata": {},
   "source": [
    "## Pregunta 2\n",
    "\n",
    "Sabiendo que la variable objetivo es *Fev*. Presenta un gráfico con las relaciones de asociación de los predictores frente a Fev. "
   ]
  },
  {
   "cell_type": "code",
   "execution_count": 2,
   "id": "8a12e902",
   "metadata": {},
   "outputs": [],
   "source": [
    "# Gráfico de relaciones con la objetivo\n"
   ]
  },
  {
   "cell_type": "markdown",
   "id": "f59bbb1a",
   "metadata": {},
   "source": [
    "¿Cuales son las 3 variables que elegirías para tu primer modelo de regresión en base a esta información?"
   ]
  },
  {
   "cell_type": "markdown",
   "id": "dbb7537d",
   "metadata": {},
   "source": [
    "**Respuesta**:"
   ]
  },
  {
   "cell_type": "markdown",
   "id": "9ba02e90",
   "metadata": {},
   "source": [
    "## Pregunta 3\n",
    "\n",
    "Ajusta el modelo de regresión que contiene los 3 predictores que has decidido en el apartado anterior en el propio conjunto de entrenamiento (no hace falta hacer partición) y muestra el summary de dicho modelo. "
   ]
  },
  {
   "cell_type": "code",
   "execution_count": 3,
   "id": "d409d518",
   "metadata": {},
   "outputs": [],
   "source": [
    "# Ajuste de modelo \n",
    "\n",
    "# Summary\n"
   ]
  },
  {
   "cell_type": "markdown",
   "id": "fb992ecf",
   "metadata": {},
   "source": [
    " A la vista de los valores de ajuste, ¿qué porcentaje de variabilidad explicada tiene el modelo? Interpreta el parámetro estimado de la *altura*."
   ]
  },
  {
   "cell_type": "markdown",
   "id": "67565319",
   "metadata": {},
   "source": [
    "**Respuesta**:"
   ]
  },
  {
   "cell_type": "markdown",
   "id": "c2d7c2e4",
   "metadata": {},
   "source": [
    "## Pregunta 4\n",
    "\n",
    "Aplica validación cruzada repetida para tu modelo con nuestra querida función *cross_val_lin* y una semilla conformada por los 4 últimos dígitos de tu documento de identidad. Muestra el boxplot de sesgo-varianza de las estimaciones. "
   ]
  },
  {
   "cell_type": "code",
   "execution_count": 4,
   "id": "cf676546",
   "metadata": {},
   "outputs": [],
   "source": [
    "# Validación cruzada\n",
    "\n",
    "# Boxplot sesgo-varianza\n"
   ]
  },
  {
   "cell_type": "markdown",
   "id": "2e2e9579",
   "metadata": {},
   "source": [
    "A la vista de los resultados. ¿Está sobreajustando tu modelo al conjunto de entrenamiento?"
   ]
  },
  {
   "cell_type": "markdown",
   "id": "87a07186",
   "metadata": {},
   "source": [
    "**Respuesta**:"
   ]
  },
  {
   "cell_type": "markdown",
   "id": "2ae20777",
   "metadata": {},
   "source": [
    "## Pregunta 5\n",
    "\n",
    "Indica el código necesario para leer el conjunto de datos **\"IPI_Esp.xlsx\"** y muestra su cabeza."
   ]
  },
  {
   "cell_type": "code",
   "execution_count": 5,
   "id": "6a1330a3",
   "metadata": {},
   "outputs": [],
   "source": [
    "# Lectura de datos IPI\n",
    "\n",
    "# Primeras filas\n"
   ]
  },
  {
   "cell_type": "markdown",
   "id": "281eea1f",
   "metadata": {},
   "source": [
    "## Pregunta 6\n",
    "\n",
    "Convierte el conjunto en una serie temporal legible para Python y representa gráficamente la evolución. "
   ]
  },
  {
   "cell_type": "code",
   "execution_count": 6,
   "id": "a7b6fdbb",
   "metadata": {},
   "outputs": [],
   "source": [
    "# Conversión a serie temporal legible\n"
   ]
  },
  {
   "cell_type": "code",
   "execution_count": 7,
   "id": "c616e9e7",
   "metadata": {},
   "outputs": [],
   "source": [
    "# Convertir en date-time\n"
   ]
  },
  {
   "cell_type": "code",
   "execution_count": 8,
   "id": "6599a956",
   "metadata": {},
   "outputs": [],
   "source": [
    "# Mostrar valores de serie\n"
   ]
  },
  {
   "cell_type": "code",
   "execution_count": 9,
   "id": "85aff6b0",
   "metadata": {},
   "outputs": [],
   "source": [
    "# Gráfico de evolución del IPI\n"
   ]
  },
  {
   "cell_type": "markdown",
   "id": "ec15a13e",
   "metadata": {},
   "source": [
    "¿Qué componentes de la serie se pueden intuir en el gráfico?"
   ]
  },
  {
   "cell_type": "markdown",
   "id": "91227476",
   "metadata": {},
   "source": [
    "**Respuesta**:"
   ]
  },
  {
   "cell_type": "markdown",
   "id": "4a3ac654",
   "metadata": {},
   "source": [
    "## Pregunta 7\n",
    "\n",
    "Toma una partición con ventana de entrenamiento (todo el histórico hasta diciembre de 2017) y prueba (2018 y 2019). Ajusta el modelo de suavizado que consideres más adecuado a la luz de las características de la serie. Evalua el modelo en términos de error y adecuación de los residuos. ¿El modelo satisface las condiciones residuales en cuanto a  autocorrelaciones?"
   ]
  },
  {
   "cell_type": "code",
   "execution_count": 10,
   "id": "13ede074",
   "metadata": {},
   "outputs": [],
   "source": [
    "# Partición de datos\n",
    "\n",
    "# Ajuste de modelo de suavizado\n"
   ]
  },
  {
   "cell_type": "markdown",
   "id": "2d1f33a3",
   "metadata": {},
   "source": [
    "**Respuesta**:\n"
   ]
  },
  {
   "cell_type": "markdown",
   "id": "7f44f5b9",
   "metadata": {},
   "source": [
    "## Pregunta 8\n",
    "\n",
    "Presenta los correlogramas simple y parcial de la serie diferenciada en lo regular y estacional para el conjunto de entrenamiento. "
   ]
  },
  {
   "cell_type": "code",
   "execution_count": 11,
   "id": "26fda0cc",
   "metadata": {},
   "outputs": [],
   "source": [
    "# Diferenciar serie\n",
    "\n",
    "# Correlograma simple ACF\n",
    "\n",
    "# Correlograma parcial PACF\n"
   ]
  },
  {
   "cell_type": "markdown",
   "id": "70b0ff76",
   "metadata": {},
   "source": [
    "A pesar de la dificultad, intentemos proponer algunos órdenes en lo regular y estcional para un tentativo modelo arima. \n",
    "\n",
    "¿Cual sería tu primer modelo a probar según lo que observas en la desaparición de las correlaciones con los retardos?\n",
    "\n",
    "**Respuesta**: Mi modelo sería ARIMA(p,d,q)(P,D,Q)"
   ]
  },
  {
   "cell_type": "markdown",
   "id": "ec5f0103",
   "metadata": {},
   "source": [
    "## Pregunta 9\n",
    "\n",
    "Ajusta ese modelo que propones y evalúa su capacidad de ajuste en test y la adecuación de residuos. "
   ]
  },
  {
   "cell_type": "code",
   "execution_count": 12,
   "id": "da936a92",
   "metadata": {},
   "outputs": [],
   "source": [
    "# Ajuste de modelo ARIMA\n"
   ]
  },
  {
   "cell_type": "code",
   "execution_count": 13,
   "id": "bdca5d73",
   "metadata": {},
   "outputs": [],
   "source": [
    "# Summary del modelo \n"
   ]
  },
  {
   "cell_type": "markdown",
   "id": "0cbee42c",
   "metadata": {},
   "source": [
    "¿Son todos los efectos significativos en el modelo?\n",
    "\n",
    "**Respuesta**: "
   ]
  },
  {
   "cell_type": "code",
   "execution_count": 14,
   "id": "8d38837c",
   "metadata": {},
   "outputs": [],
   "source": [
    "# Evaluación del modelo (eval_model)\n"
   ]
  },
  {
   "cell_type": "markdown",
   "id": "21bf83f0",
   "metadata": {},
   "source": [
    "¿Es tu modelo válido para la predicción en términos de adecuación residual? En caso contrario, juega con los órdenes para obtener un modelo que satisfaga el test de residuos. ¿Es este modelo aceptable mejor que el suavizado en términos de capacidad de predicción en el conjunto de test? "
   ]
  },
  {
   "cell_type": "markdown",
   "id": "65561722",
   "metadata": {},
   "source": [
    "**Respuesta**: "
   ]
  },
  {
   "cell_type": "markdown",
   "id": "a3439dd4",
   "metadata": {},
   "source": [
    "## Pregunta 10\n",
    "\n",
    "Indica el código necesario para leer el archivo **\"clientes_cluster.csv\"** y mostrar sus primeros registros. "
   ]
  },
  {
   "cell_type": "code",
   "execution_count": 15,
   "id": "f053584f",
   "metadata": {},
   "outputs": [],
   "source": [
    "# Lectura clientes_cluster\n"
   ]
  },
  {
   "cell_type": "markdown",
   "id": "d1edf733",
   "metadata": {},
   "source": [
    "## Pregunta 11\n",
    "\n",
    "Evalúa la incidencia de valores perdidos por variable e imputa el archivo mediante el método multivariante basado en el algoritmo KNN, generando un nuevo archivo completo **\"clientes_imputed\"** del que se mostrará la información para comprobar que efectivamente todos los registros contienen valores válidos."
   ]
  },
  {
   "cell_type": "code",
   "execution_count": 16,
   "id": "c7cba913",
   "metadata": {},
   "outputs": [],
   "source": [
    "#Incidencia de missings por variable\n"
   ]
  },
  {
   "cell_type": "markdown",
   "id": "4afedf5b",
   "metadata": {},
   "source": [
    "**Comentario**:"
   ]
  },
  {
   "cell_type": "code",
   "execution_count": 17,
   "id": "84507103",
   "metadata": {},
   "outputs": [],
   "source": [
    "# Imputación por KNN\n",
    "\n",
    "# Info del archivo imputado\n"
   ]
  },
  {
   "cell_type": "markdown",
   "id": "200dc6ef",
   "metadata": {},
   "source": [
    "Recodifica *Gender* como una variable dummy (cualquier opción de código es bienvenida) en formato numérico y elimina el ID de cliente de cara al análisis."
   ]
  },
  {
   "cell_type": "code",
   "execution_count": 18,
   "id": "44b4609f",
   "metadata": {},
   "outputs": [],
   "source": [
    "# Recodificación de Gender como dummy\n"
   ]
  },
  {
   "cell_type": "markdown",
   "id": "daada98d",
   "metadata": {},
   "source": [
    "## Pregunta 12\n",
    "\n",
    "Explora los métodos de clustering jerárquico para formar grupos de clientes similares en cuanto a su comportamiento en estas 4 variables disponibles y presenta sus dendogramas. Si lo consideras necesario, escala los datos previamente."
   ]
  },
  {
   "cell_type": "code",
   "execution_count": 19,
   "id": "3877774a",
   "metadata": {},
   "outputs": [],
   "source": [
    "# Clustering jerárquico bucle de dendogramas\n",
    "    "
   ]
  },
  {
   "cell_type": "markdown",
   "id": "7a9439ae",
   "metadata": {},
   "source": [
    "¿Cuál es el método de linkage más adecuado a la vista de los dendogramas? ¿Cuantos grupos de clientes formarías en base a las alturas del dendograma del linkage escogido?\n",
    "\n",
    "**Respuesta**:"
   ]
  },
  {
   "cell_type": "markdown",
   "id": "6946b85c",
   "metadata": {},
   "source": [
    "## Pregunta 13\n",
    "\n",
    "Explora el clustering K-means con distinto número de grupos y decide cuantos el número de clusters óptimo para la solución según este método. Comenta las métricas de evaluación."
   ]
  },
  {
   "cell_type": "code",
   "execution_count": 20,
   "id": "dd08d982",
   "metadata": {},
   "outputs": [],
   "source": [
    "# Clustering k-means evaluación número clusters\n"
   ]
  },
  {
   "cell_type": "markdown",
   "id": "1fe8d9e9",
   "metadata": {},
   "source": [
    "**Respuesta**: "
   ]
  },
  {
   "cell_type": "markdown",
   "id": "52eac379",
   "metadata": {},
   "source": [
    "Ajusta el clustering K-means con el núemero de grupos seleccionado y genera una nueva variable en el conjunto de datos imputado llamada *'Cluster'* que recoja el número de grupo asignado a cada registro. El tipo de la variable debe ser entero (int).  "
   ]
  },
  {
   "cell_type": "code",
   "execution_count": 21,
   "id": "afe61669",
   "metadata": {},
   "outputs": [],
   "source": [
    "# Ajuste de k-means\n",
    "\n",
    "# Creación de variable cluster\n"
   ]
  },
  {
   "cell_type": "markdown",
   "id": "e5942e70",
   "metadata": {},
   "source": [
    "Extrae los centroides de los grupos y comenta las principales características de cada grupo formado. "
   ]
  },
  {
   "cell_type": "code",
   "execution_count": 22,
   "id": "cdaf0816",
   "metadata": {},
   "outputs": [],
   "source": [
    "# Centroides\n"
   ]
  },
  {
   "cell_type": "markdown",
   "id": "0d15c19c",
   "metadata": {},
   "source": [
    "**Comentarios**: "
   ]
  },
  {
   "cell_type": "markdown",
   "id": "a478d9e4",
   "metadata": {},
   "source": [
    "## Pregunta 14\n",
    "\n",
    "De cara a la proyección de los grupos formados en el espacio de características y dado que estamos en R4. Nos planteamos reducir la dimensionalidad a 2 para poder interpretar con mayor claridad mediante un bonito biplot. \n",
    "\n",
    "Para llevar a cabo esta tarea, necesitaremos ajustar un PCA con 2 dimensiones a los datos de entrada al clustering que hemos generado, es decir, tal vez utilizamos el conjunto de datos escalado si lo consideramos necesario. Mostraremos las cargas de las variables en las componentes y haremos una pequeña interpretación inicial de las 2 componentes.\n"
   ]
  },
  {
   "cell_type": "code",
   "execution_count": 23,
   "id": "605f281d",
   "metadata": {},
   "outputs": [],
   "source": [
    "# Ajuste PCA 2 dimensiones\n",
    "\n",
    "# Análisis de cargas"
   ]
  },
  {
   "cell_type": "markdown",
   "id": "ecf1b0d3",
   "metadata": {},
   "source": [
    "**Interpretación inicial**:"
   ]
  },
  {
   "cell_type": "markdown",
   "id": "996c90b8",
   "metadata": {},
   "source": [
    "Ahora generamos y mostramos el biplot para interpretar con mayor seguridad las componentes. "
   ]
  },
  {
   "cell_type": "code",
   "execution_count": 24,
   "id": "6d0a2619",
   "metadata": {},
   "outputs": [],
   "source": [
    "# Biplot\n"
   ]
  },
  {
   "cell_type": "markdown",
   "id": "5bb17345",
   "metadata": {},
   "source": [
    "**Interpretación gráfica**:"
   ]
  },
  {
   "cell_type": "markdown",
   "id": "a0e4f705",
   "metadata": {},
   "source": [
    "Ahora que sabemos lo que represanta cada componente en el espacio original de las variables, necesitamos un conjunto de datos que contenga las columnas *PC1*,*PC2* y *Cluster* para realizar la representación de los clientes por grupos propuestos e interpretar las características de los grupos en el espacio de las componentes. "
   ]
  },
  {
   "cell_type": "code",
   "execution_count": 25,
   "id": "f34621a4",
   "metadata": {},
   "outputs": [],
   "source": [
    "# Creación dataset dimensión reducida\n",
    "\n",
    "# Representación de grupos en espacio de componentes\n"
   ]
  },
  {
   "cell_type": "markdown",
   "id": "aaf6351b",
   "metadata": {},
   "source": [
    "**Interpretación de biplot**:"
   ]
  }
 ],
 "metadata": {
  "kernelspec": {
   "display_name": "Python 3 (ipykernel)",
   "language": "python",
   "name": "python3"
  },
  "language_info": {
   "codemirror_mode": {
    "name": "ipython",
    "version": 3
   },
   "file_extension": ".py",
   "mimetype": "text/x-python",
   "name": "python",
   "nbconvert_exporter": "python",
   "pygments_lexer": "ipython3",
   "version": "3.11.5"
  }
 },
 "nbformat": 4,
 "nbformat_minor": 5
}
